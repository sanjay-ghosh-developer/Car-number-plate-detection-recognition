{
 "cells": [
  {
   "cell_type": "markdown",
   "metadata": {},
   "source": [
    "# Car Number Plate Detector"
   ]
  },
  {
   "cell_type": "code",
   "execution_count": 1,
   "metadata": {},
   "outputs": [],
   "source": [
    "#importing nessesary liberies\n",
    "import cv2\n",
    "import imutils\n",
    "import numpy as np\n",
    "import pytesseract\n",
    "from PIL import Image\n",
    "\n"
   ]
  },
  {
   "cell_type": "code",
   "execution_count": 2,
   "metadata": {},
   "outputs": [],
   "source": [
    "#image preprocessing\n",
    "img = cv2.imread('4.jpg',cv2.IMREAD_COLOR)\n",
    "\n",
    "img = cv2.resize(img, (620,480) )\n",
    "\n",
    "gray = cv2.cvtColor(img, cv2.COLOR_BGR2GRAY) #convert to grey scale\n",
    "gray = cv2.bilateralFilter(gray, 11, 17, 17) #Blur to reduce noise\n",
    "edged = cv2.Canny(gray, 30, 200) #Perform Edge detection\n",
    "\n"
   ]
  },
  {
   "cell_type": "code",
   "execution_count": 3,
   "metadata": {},
   "outputs": [],
   "source": [
    "cv2.imshow('image',gray)\n",
    "cv2.imshow('Cropped',edged)\n",
    "\n",
    "\n",
    "cv2.waitKey(0)\n",
    "cv2.destroyAllWindows()"
   ]
  },
  {
   "cell_type": "code",
   "execution_count": 5,
   "metadata": {},
   "outputs": [],
   "source": [
    "# find contours in the edged image, keep only the largest\n",
    "\n",
    "cnts = cv2.findContours(edged.copy(), cv2.RETR_TREE, cv2.CHAIN_APPROX_SIMPLE)\n",
    "cnts = imutils.grab_contours(cnts)\n",
    "cnts = sorted(cnts, key = cv2.contourArea, reverse = True)[:10]\n",
    "screenCnt = None\n",
    "\n",
    "# loop over our contours\n",
    "for c in cnts:\n",
    "    # approximate the contour\n",
    "    peri = cv2.arcLength(c, True)\n",
    "    approx = cv2.approxPolyDP(c, 0.018 * peri, True)\n",
    "\n",
    "    # if our approximated contour has four points, then\n",
    "    # we can assume that we have found our screen\n",
    "    if len(approx) == 4:\n",
    "        screenCnt = approx\n",
    "        break\n",
    "if screenCnt is None:\n",
    "        detected = 0\n",
    "        print(\"No contour detected\")\n",
    "else:\n",
    "        detected = 1\n",
    "\n",
    "if detected == 1:\n",
    "        cv2.drawContours(img, [screenCnt], -1, (0, 255, 0), 3)\n",
    "\n",
    "# Masking the part other than the number plate\n",
    "mask = np.zeros(gray.shape,np.uint8)\n",
    "new_image = cv2.drawContours(mask,[screenCnt],0,255,-1,)\n",
    "new_image = cv2.bitwise_and(img,img,mask=mask)\n",
    "\n"
   ]
  },
  {
   "cell_type": "code",
   "execution_count": 6,
   "metadata": {},
   "outputs": [],
   "source": [
    "cv2.imshow('image',new_image)\n",
    "cv2.waitKey(0)\n",
    "cv2.destroyAllWindows()"
   ]
  },
  {
   "cell_type": "code",
   "execution_count": 7,
   "metadata": {},
   "outputs": [],
   "source": [
    "# Now crop\n",
    "(x, y) = np.where(mask == 255)\n",
    "(topx, topy) = (np.min(x), np.min(y))\n",
    "(bottomx, bottomy) = (np.max(x), np.max(y))\n",
    "Cropped = gray[topx:bottomx+1, topy:bottomy+1]"
   ]
  },
  {
   "cell_type": "code",
   "execution_count": 8,
   "metadata": {},
   "outputs": [
    {
     "name": "stdout",
     "output_type": "stream",
     "text": [
      "Detected Number is: PHR. 26.BR 9044;\n"
     ]
    }
   ],
   "source": [
    "#Read the number plate\n",
    "\n",
    "#pytesseract.pytesseract.tesseract_cmd = r'C:\\Users\\USER\\AppData\\Local\\Tesseract-OCR\\tesseract.exe'\n",
    "#text = pytesseract.image_to_string(Cropped, config='--psm 11')\n",
    "\n",
    "pytesseract.pytesseract.tesseract_cmd = r\"C:\\Program Files\\Tesseract-OCR\\tesseract.exe\"\n",
    "text = pytesseract.image_to_string(Cropped)\n",
    "print(\"Detected Number is:\",text)\n",
    "\n",
    "cv2.imshow('image',img)\n",
    "cv2.imshow('Cropped',Cropped)\n",
    "\n",
    "cv2.waitKey(0)\n",
    "cv2.destroyAllWindows()"
   ]
  },
  {
   "cell_type": "code",
   "execution_count": null,
   "metadata": {},
   "outputs": [],
   "source": [
    "detected"
   ]
  },
  {
   "cell_type": "markdown",
   "metadata": {},
   "source": [
    "## Main app"
   ]
  },
  {
   "cell_type": "code",
   "execution_count": null,
   "metadata": {},
   "outputs": [],
   "source": [
    "# defining function\n",
    "import cv2\n",
    "import imutils\n",
    "import numpy as np\n",
    "import pytesseract\n",
    "from PIL import Image\n",
    "pytesseract.pytesseract.tesseract_cmd = r\"C:\\Program Files\\Tesseract-OCR\\tesseract.exe\"\n",
    "\n",
    "threshold_area = 1800     #threshold area \n",
    "\n",
    "def imgprocess(img):\n",
    "    #img = cv2.imread('4.jpg',cv2.IMREAD_COLOR)\n",
    "\n",
    "    img = cv2.resize(img, (620,480) )\n",
    "\n",
    "    gray = cv2.cvtColor(img, cv2.COLOR_BGR2GRAY) #convert to grey scale\n",
    "    gray = cv2.bilateralFilter(gray, 11, 17, 17) #Blur to reduce noise\n",
    "    edged = cv2.Canny(gray, 30, 200) #Perform Edge detection\n",
    "\n",
    "    # find contours in the edged image, keep only the largest\n",
    "    # ones, and initialize our screen contour\n",
    "    cnts = cv2.findContours(edged.copy(), cv2.RETR_TREE, cv2.CHAIN_APPROX_SIMPLE)\n",
    "    cnts = imutils.grab_contours(cnts)\n",
    "    cnts = sorted(cnts, key = cv2.contourArea, reverse = True)[:3]\n",
    "    screenCnt = None\n",
    "    # loop over our contours\n",
    "    for c in cnts:\n",
    "        area = cv2.contourArea(c)\n",
    "        #print(area)\n",
    "        if area > threshold_area and area < threshold_area+1000:\n",
    "            # approximate the contour\n",
    "            peri = cv2.arcLength(c, True)\n",
    "            approx = cv2.approxPolyDP(c, 0.018 * peri, True)\n",
    "\n",
    "            # if our approximated contour has four points, then\n",
    "            # we can assume that we have found our screen\n",
    "            if len(approx) == 4:\n",
    "                x,y,w,h = cv2.boundingRect(c)\n",
    "                #print(w,h,x,y)\n",
    "                if abs(w-h) > 3 and w>h :\n",
    "                    #print(w,h,x,y)\n",
    "                    screenCnt = approx\n",
    "                    break\n",
    "    if screenCnt is None:\n",
    "            detected = 0\n",
    "            #print(\"No contour detected\")\n",
    "    else:\n",
    "            detected = 1\n",
    "\n",
    "    if detected == 1:\n",
    "            cv2.drawContours(img, [screenCnt], -1, (0, 255, 0), 3)\n",
    "\n",
    "            # Masking the part other than the number plate\n",
    "            mask = np.zeros(gray.shape,np.uint8)\n",
    "            new_image = cv2.drawContours(mask,[screenCnt],0,255,-1,)\n",
    "            #new_image = cv2.bitwise_and(img,img,mask=mask)\n",
    "            new_image = cv2.bitwise_and(edged,edged,mask=mask)\n",
    "#edged\n",
    "            # Now crop\n",
    "            (x, y) = np.where(mask == 255)\n",
    "            (topx, topy) = (np.min(x), np.min(y))\n",
    "            (bottomx, bottomy) = (np.max(x), np.max(y))\n",
    "            Cropped = gray[topx:bottomx+1, topy:bottomy+1]\n",
    "            text = pytesseract.image_to_string(Cropped)\n",
    "            print(text)\n",
    "    return edged\n"
   ]
  },
  {
   "cell_type": "code",
   "execution_count": null,
   "metadata": {},
   "outputs": [],
   "source": [
    "# Load video stream\n",
    "cap = cv2.VideoCapture(\"car.mp4\")\n",
    "\n",
    "\n",
    "# Get first frame\n",
    "ret, first_frame = cap.read()\n",
    "# previous_gray = cv2.cvtColor(first_frame, cv2.COLOR_BGR2GRAY)\n",
    "# hsv = np.zeros_like(first_frame)\n",
    "# hsv[...,1] = 255\n",
    "while True:\n",
    "    # Read of video file\n",
    "    ret, frame = cap.read()\n",
    "    img=imgprocess(frame)\n",
    "    cv2.imshow('Number plate detection', img)\n",
    "    \n",
    "    if cv2.waitKey(1) == 13: #13 is the Enter Key\n",
    "        break\n",
    "    \n",
    "    \n",
    "    #text = pytesseract.image_to_string(final)\n",
    "    #print(\"Detected Number is:\",text)\n",
    "    \n",
    "cap.release()\n",
    "cv2.destroyAllWindows()"
   ]
  },
  {
   "cell_type": "code",
   "execution_count": null,
   "metadata": {},
   "outputs": [],
   "source": []
  }
 ],
 "metadata": {
  "kernelspec": {
   "display_name": "Python 3",
   "language": "python",
   "name": "python3"
  },
  "language_info": {
   "codemirror_mode": {
    "name": "ipython",
    "version": 3
   },
   "file_extension": ".py",
   "mimetype": "text/x-python",
   "name": "python",
   "nbconvert_exporter": "python",
   "pygments_lexer": "ipython3",
   "version": "3.7.5"
  }
 },
 "nbformat": 4,
 "nbformat_minor": 2
}
